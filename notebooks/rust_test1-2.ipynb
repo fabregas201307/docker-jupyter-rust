{
 "cells": [
  {
   "cell_type": "code",
   "execution_count": 2,
   "id": "f5586bfa-4e52-4edf-a45b-98b0e5caf3dd",
   "metadata": {},
   "outputs": [],
   "source": [
    ":dep polars = \"0.36.2\"\n",
    ":dep linregress = \"0.5.3\""
   ]
  },
  {
   "cell_type": "code",
   "execution_count": 3,
   "id": "73c08e75-e7e8-4707-8b54-7080aed107ac",
   "metadata": {},
   "outputs": [],
   "source": [
    "use std::path::Path;\n",
    "use polars::prelude::*;\n",
    "use linregress::{FormulaRegressionBuilder, RegressionDataBuilder};"
   ]
  },
  {
   "cell_type": "code",
   "execution_count": 4,
   "id": "e14454a4-deca-4d8b-b6ec-03674f0e8790",
   "metadata": {},
   "outputs": [
    {
     "data": {
      "text/plain": [
       "shape: (0, 0)\n",
       "┌┐\n",
       "╞╡\n",
       "└┘"
      ]
     },
     "execution_count": 4,
     "metadata": {},
     "output_type": "execute_result"
    }
   ],
   "source": [
    "let df = DataFrame::default();\n",
    "df"
   ]
  },
  {
   "cell_type": "code",
   "execution_count": 83,
   "id": "3a1d1f32-644b-4945-ad7e-19dcca18d275",
   "metadata": {},
   "outputs": [
    {
     "data": {
      "text/plain": [
       "shape: (3, 8)\n",
       "┌────────────┬────────────┬──────────┬─────────┬─────────────┬──────┬─────┬──────┐\n",
       "│ date       ┆ identifier ┆ residual ┆ sum_res ┆ sum_res_lag ┆ a    ┆ b1  ┆ rss  │\n",
       "│ ---        ┆ ---        ┆ ---      ┆ ---     ┆ ---         ┆ ---  ┆ --- ┆ ---  │\n",
       "│ str        ┆ str        ┆ f64      ┆ i32     ┆ i32         ┆ f64  ┆ i32 ┆ f64  │\n",
       "╞════════════╪════════════╪══════════╪═════════╪═════════════╪══════╪═════╪══════╡\n",
       "│ 2024-01-01 ┆ Ali        ┆ 1.84     ┆ 67      ┆ 23          ┆ 1.84 ┆ 23  ┆ 1.84 │\n",
       "│ 2024-01-02 ┆ Ali        ┆ 1.78     ┆ 78      ┆ 27          ┆ 1.78 ┆ 27  ┆ 1.78 │\n",
       "│ 2024-01-03 ┆ Ali        ┆ null     ┆ null    ┆ 47          ┆ 1.23 ┆ 33  ┆ 1.67 │\n",
       "└────────────┴────────────┴──────────┴─────────┴─────────────┴──────┴─────┴──────┘"
      ]
     },
     "execution_count": 83,
     "metadata": {},
     "output_type": "execute_result"
    }
   ],
   "source": [
    "let s1 = Series::new(\"date\", &[\"2024-01-01\", \"2024-01-02\", \"2024-01-03\"]);\n",
    "let s2 = Series::new(\"identifier\", &[\"Ali\", \"Ali\", \"Ali\"]);\n",
    "let s3 = Series::new(\"residual\", &[Some(1.84), Some(1.78), None::<f64>]);\n",
    "// let s3 = series![1.84, 1.78, None::<f64>];\n",
    "// let s4 = Series::new(\"sum_res\", &[67, 78, 43]);\n",
    "let s4 = Series::new(\"sum_res\", &[Some(67), Some(78), None::<i32>]);\n",
    "let s5 = Series::new(\"sum_res_lag\", &[23, 27, 47]);\n",
    "let s6 = Series::new(\"a\", &[1.84, 1.78, 1.23]);\n",
    "let s7 = Series::new(\"b1\", &[23, 27, 33]);\n",
    "let s8 = Series::new(\"rss\", &[1.84, 1.78, 1.67]);\n",
    "\n",
    "let mut df: DataFrame = DataFrame::new(vec![s1, s2, s3, s4, s5, s6, s7, s8]).unwrap();\n",
    "df"
   ]
  },
  {
   "cell_type": "code",
   "execution_count": 77,
   "id": "25d6099c-9fed-45e6-91c6-c4ec788993cb",
   "metadata": {},
   "outputs": [
    {
     "name": "stdout",
     "output_type": "stream",
     "text": [
      "1\n",
      "1\n"
     ]
    },
    {
     "data": {
      "text/plain": [
       "()"
      ]
     },
     "execution_count": 77,
     "metadata": {},
     "output_type": "execute_result"
    }
   ],
   "source": [
    "let mut total_null_count = 0;\n",
    "let df_selected = df.select(&[\"sum_res\", \"sum_res_lag\"]).unwrap();\n",
    "\n",
    "for col in df_selected.get_columns(){\n",
    "    let col_null_count = col.is_null().sum();\n",
    "    let int_val: i32 = col_null_count.unwrap_or(0) as i32;\n",
    "    total_null_count += int_val;\n",
    "    println!(\"{}\", total_null_count);\n",
    "}\n",
    "    \n",
    "    "
   ]
  },
  {
   "cell_type": "code",
   "execution_count": 78,
   "id": "8807e680-958d-419c-96d3-925c65d4cfa2",
   "metadata": {},
   "outputs": [],
   "source": [
    "fn null_count(df: DataFrame, cols: Vec<String>) -> Result<i32, PolarsError>{\n",
    "    let mut total_null_count = 0;\n",
    "    let df_selected = df.select(&cols).unwrap();\n",
    "    \n",
    "    for col in df_selected.get_columns(){\n",
    "        let col_null_count = col.is_null().sum();\n",
    "        let int_val: i32 = col_null_count.unwrap_or(0) as i32;\n",
    "        total_null_count += int_val;\n",
    "    }\n",
    "    Ok(total_null_count)\n",
    "}"
   ]
  },
  {
   "cell_type": "code",
   "execution_count": 79,
   "id": "59af9a9a-07c8-407f-ae27-022e08cac3fd",
   "metadata": {},
   "outputs": [
    {
     "name": "stdout",
     "output_type": "stream",
     "text": [
      "Total null count: 1\n"
     ]
    },
    {
     "data": {
      "text/plain": [
       "0"
      ]
     },
     "execution_count": 79,
     "metadata": {},
     "output_type": "execute_result"
    }
   ],
   "source": [
    "let columns = vec![\"sum_res\".to_string(), \"sum_res_lag\".to_string()];\n",
    "let mut count = 0;\n",
    "match null_count(df, columns) {\n",
    "    Ok(count) => println!(\"Total null count: {}\", count),\n",
    "    Err(err) => eprintln!(\"Error: {}\", err),\n",
    "}\n",
    "count"
   ]
  },
  {
   "cell_type": "code",
   "execution_count": 80,
   "id": "97e52d9d-bf45-4455-868d-4c6ef5c1cc5b",
   "metadata": {},
   "outputs": [
    {
     "data": {
      "text/plain": [
       "0"
      ]
     },
     "execution_count": 80,
     "metadata": {},
     "output_type": "execute_result"
    }
   ],
   "source": [
    "count"
   ]
  },
  {
   "cell_type": "code",
   "execution_count": 85,
   "id": "ba470095-689e-4dbe-9667-d09a45236b5a",
   "metadata": {},
   "outputs": [],
   "source": [
    "let columns = vec![\"sum_res\".to_string(), \"sum_res_lag\".to_string()];\n",
    "let result = null_count(df.clone(), columns.clone());"
   ]
  },
  {
   "cell_type": "code",
   "execution_count": 86,
   "id": "7bccecc9-7c04-4a25-bf8b-c4c07d7ca68c",
   "metadata": {},
   "outputs": [
    {
     "name": "stdout",
     "output_type": "stream",
     "text": [
      "Total null count: 1\n",
      "Count outside match: 1\n"
     ]
    }
   ],
   "source": [
    "// Declare the count variable outside the match\n",
    "let mut count = 0;\n",
    "\n",
    "// Handle the result\n",
    "match result {\n",
    "    Ok(c) => {\n",
    "        // Assign the value to the count variable\n",
    "        count = c;\n",
    "        println!(\"Total null count: {}\", count);\n",
    "    }\n",
    "    Err(err) => eprintln!(\"Error: {}\", err),\n",
    "}\n",
    "\n",
    "// Now you can use 'count' variable here\n",
    "println!(\"Count outside match: {}\", count);"
   ]
  },
  {
   "cell_type": "code",
   "execution_count": 87,
   "id": "54266ff2-b03a-49a1-8713-b4cfb67fe5fe",
   "metadata": {},
   "outputs": [
    {
     "data": {
      "text/plain": [
       "shape: (3,)\n",
       "Series: 'ones' [i32]\n",
       "[\n",
       "\t1\n",
       "\t1\n",
       "\t1\n",
       "]"
      ]
     },
     "execution_count": 87,
     "metadata": {},
     "output_type": "execute_result"
    }
   ],
   "source": [
    "// let X = df.select(&[\"sum_res\"]).expect(\"Column 'sum_res' not found\");\n",
    "let ones = Series::new(\"ones\", &vec![1; df.height()]);\n",
    "ones"
   ]
  },
  {
   "cell_type": "code",
   "execution_count": 88,
   "id": "92abd4be-fd2d-4c62-8fbd-96fcee66f757",
   "metadata": {},
   "outputs": [
    {
     "data": {
      "text/plain": [
       "shape: (3, 8)\n",
       "┌────────────┬────────────┬──────────┬─────────┬─────────────┬─────┬─────┬──────┐\n",
       "│ date       ┆ identifier ┆ residual ┆ sum_res ┆ sum_res_lag ┆ a   ┆ b1  ┆ rss  │\n",
       "│ ---        ┆ ---        ┆ ---      ┆ ---     ┆ ---         ┆ --- ┆ --- ┆ ---  │\n",
       "│ str        ┆ str        ┆ f64      ┆ i32     ┆ i32         ┆ i32 ┆ i32 ┆ f64  │\n",
       "╞════════════╪════════════╪══════════╪═════════╪═════════════╪═════╪═════╪══════╡\n",
       "│ 2024-01-01 ┆ Ali        ┆ 1.84     ┆ 67      ┆ 23          ┆ 9   ┆ 23  ┆ 1.84 │\n",
       "│ 2024-01-02 ┆ Ali        ┆ 1.78     ┆ 78      ┆ 27          ┆ 9   ┆ 27  ┆ 1.78 │\n",
       "│ 2024-01-03 ┆ Ali        ┆ null     ┆ null    ┆ 47          ┆ 9   ┆ 33  ┆ 1.67 │\n",
       "└────────────┴────────────┴──────────┴─────────┴─────────────┴─────┴─────┴──────┘"
      ]
     },
     "execution_count": 88,
     "metadata": {},
     "output_type": "execute_result"
    }
   ],
   "source": [
    "df.replace(\"a\", Series::new(\"a\", &vec![9; df.height()]));\n",
    "df"
   ]
  },
  {
   "cell_type": "code",
   "execution_count": null,
   "id": "dc9a4a15-ef79-42cf-8a87-0febe8885846",
   "metadata": {},
   "outputs": [],
   "source": [
    "fn rolling_reg(df: DataFrame, n: i32) -> Result<DataFrame, PolarsError>{\n",
    "    \"\"\"\n",
    "    df: df must be mutable dataframe, index is RangeIndex, columns are ['date', 'identifier', 'residual', 'sum_res', 'sum_res_lag', 'a', 'b1', 'rss']\n",
    "    \"\"\"\n",
    "    let columns = vec![\"sum_res\".to_string(), \"sum_res_lag\".to_string()];\n",
    "    for i in n..df.height(){\n",
    "        let mut temp: DataFrame = df.slice(i-n, i);\n",
    "        let result = null_count(temp.clone(), columns.clone());\n",
    "        let mut count = 0;\n",
    "        // Handle the result\n",
    "        match result {\n",
    "            Ok(c) => {\n",
    "                // Assign the value to the count variable\n",
    "                count = c;\n",
    "            }\n",
    "            Err(err) => eprintln!(\"Error: {}\", err),\n",
    "        }\n",
    "        if count == 0{\n",
    "            // Extract Series for dependent and response variables\n",
    "            let y = temp.column(\"sum_res_lag\").expect(\"Column 'sum_res_lag' not found\");\n",
    "            let X = temp.select(&[\"sum_res\"]).expect(\"Column 'sum_res' not found\");\n",
    "\n",
    "            // Fit linear regression model with constant\n",
    "            let ones = Series::new(\"ones\", &[1; temp.height() as usize]);\n",
    "            let X_with_ones = X.hstack(&[ones]);\n",
    "\n",
    "            // Calculate coefficients manually\n",
    "            let X_transposed = X_with_ones.transpose().expect(\"Error transposing X\");\n",
    "            let XTX_inv = X_transposed.dot(&X_with_ones).expect(\"Error calculating XTX_inv\").inv().expect(\"Error inverting XTX_inv\");\n",
    "            let coefficients = XTX_inv.dot(&X_transposed).expect(\"Error calculating coefficients\").dot(y).expect(\"Error calculating y\");\n",
    "\n",
    "            // Create a new DataFrame with coefficients and intercept\n",
    "            let coefficients_series = coefficients.into_series();\n",
    "            temp.replace(\"a\", Series::new(\"a\", &vec![coefficients[1]; df.height()]));\n",
    "            temp.replace(\"b1\", Series::new(\"b1\", &vec![coefficients[2]; df.height()]));\n",
    "            temp.replace(\"rss\", Series::new(\"rss\", &vec![coefficients[0]; df.height()]));\n",
    "        }\n",
    "        \n",
    "    }\n",
    "}"
   ]
  }
 ],
 "metadata": {
  "kernelspec": {
   "display_name": "Rust",
   "language": "rust",
   "name": "rust"
  },
  "language_info": {
   "codemirror_mode": "rust",
   "file_extension": ".rs",
   "mimetype": "text/rust",
   "name": "Rust",
   "pygment_lexer": "rust",
   "version": ""
  }
 },
 "nbformat": 4,
 "nbformat_minor": 5
}
